{
  "nbformat": 4,
  "nbformat_minor": 0,
  "metadata": {
    "colab": {
      "name": "Copy of Untitled13.ipynb",
      "provenance": [],
      "collapsed_sections": [],
      "include_colab_link": true
    },
    "kernelspec": {
      "name": "python3",
      "display_name": "Python 3"
    }
  },
  "cells": [
    {
      "cell_type": "markdown",
      "metadata": {
        "id": "view-in-github",
        "colab_type": "text"
      },
      "source": [
        "<a href=\"https://colab.research.google.com/github/ilhamlotov/Pemograman-Phyton/blob/main/Ilham_1101184056_Python%20G-2.ipynb\" target=\"_parent\"><img src=\"https://colab.research.google.com/assets/colab-badge.svg\" alt=\"Open In Colab\"/></a>"
      ]
    },
    {
      "cell_type": "code",
      "metadata": {
        "id": "8i_CpIElGdmu"
      },
      "source": [
        "import numpy as np\r\n",
        "import matplotlib.pyplot as plt"
      ],
      "execution_count": null,
      "outputs": []
    },
    {
      "cell_type": "code",
      "metadata": {
        "colab": {
          "base_uri": "https://localhost:8080/"
        },
        "id": "n0YuH2C-GxyT",
        "outputId": "646cb942-1ce5-4036-c7aa-673268945777"
      },
      "source": [
        "np.zeros(4)"
      ],
      "execution_count": null,
      "outputs": [
        {
          "output_type": "execute_result",
          "data": {
            "text/plain": [
              "array([0., 0., 0., 0.])"
            ]
          },
          "metadata": {
            "tags": []
          },
          "execution_count": 2
        }
      ]
    },
    {
      "cell_type": "code",
      "metadata": {
        "colab": {
          "base_uri": "https://localhost:8080/"
        },
        "id": "rro5kUCTHSur",
        "outputId": "dfc3cddb-b333-4974-bb5c-e559b4f8be6a"
      },
      "source": [
        "np.ones(3)"
      ],
      "execution_count": null,
      "outputs": [
        {
          "output_type": "execute_result",
          "data": {
            "text/plain": [
              "array([1., 1., 1.])"
            ]
          },
          "metadata": {
            "tags": []
          },
          "execution_count": 3
        }
      ]
    },
    {
      "cell_type": "code",
      "metadata": {
        "colab": {
          "base_uri": "https://localhost:8080/"
        },
        "id": "wULh3qz6HZ8G",
        "outputId": "b7b89fd6-b4ec-4fed-ae58-9f3025e3db09"
      },
      "source": [
        "np.zeros((3,4))"
      ],
      "execution_count": null,
      "outputs": [
        {
          "output_type": "execute_result",
          "data": {
            "text/plain": [
              "array([[0., 0., 0., 0.],\n",
              "       [0., 0., 0., 0.],\n",
              "       [0., 0., 0., 0.]])"
            ]
          },
          "metadata": {
            "tags": []
          },
          "execution_count": 4
        }
      ]
    },
    {
      "cell_type": "code",
      "metadata": {
        "colab": {
          "base_uri": "https://localhost:8080/"
        },
        "id": "Z5JIaVutHml3",
        "outputId": "4fba4b2d-970c-4d15-b789-326e19cd6eda"
      },
      "source": [
        "np.ones((5,2))"
      ],
      "execution_count": null,
      "outputs": [
        {
          "output_type": "execute_result",
          "data": {
            "text/plain": [
              "array([[1., 1.],\n",
              "       [1., 1.],\n",
              "       [1., 1.],\n",
              "       [1., 1.],\n",
              "       [1., 1.]])"
            ]
          },
          "metadata": {
            "tags": []
          },
          "execution_count": 5
        }
      ]
    },
    {
      "cell_type": "code",
      "metadata": {
        "colab": {
          "base_uri": "https://localhost:8080/"
        },
        "id": "xLTMiWKTHrYS",
        "outputId": "5db75609-e102-45e3-a91c-1f8eb38c4e42"
      },
      "source": [
        "np.arange(10)"
      ],
      "execution_count": null,
      "outputs": [
        {
          "output_type": "execute_result",
          "data": {
            "text/plain": [
              "array([0, 1, 2, 3, 4, 5, 6, 7, 8, 9])"
            ]
          },
          "metadata": {
            "tags": []
          },
          "execution_count": 6
        }
      ]
    },
    {
      "cell_type": "code",
      "metadata": {
        "colab": {
          "base_uri": "https://localhost:8080/"
        },
        "id": "_xDPabG7HzGt",
        "outputId": "616c6ac1-4e52-40a2-c83f-f3c80ebaed08"
      },
      "source": [
        "np.arange(2,10)"
      ],
      "execution_count": null,
      "outputs": [
        {
          "output_type": "execute_result",
          "data": {
            "text/plain": [
              "array([2, 3, 4, 5, 6, 7, 8, 9])"
            ]
          },
          "metadata": {
            "tags": []
          },
          "execution_count": 7
        }
      ]
    },
    {
      "cell_type": "code",
      "metadata": {
        "colab": {
          "base_uri": "https://localhost:8080/"
        },
        "id": "WAlJRpl6H1v5",
        "outputId": "34667791-e37b-4c06-824e-6427b468a106"
      },
      "source": [
        "np.arange(3,47,4)"
      ],
      "execution_count": null,
      "outputs": [
        {
          "output_type": "execute_result",
          "data": {
            "text/plain": [
              "array([ 3,  7, 11, 15, 19, 23, 27, 31, 35, 39, 43])"
            ]
          },
          "metadata": {
            "tags": []
          },
          "execution_count": 8
        }
      ]
    },
    {
      "cell_type": "code",
      "metadata": {
        "colab": {
          "base_uri": "https://localhost:8080/"
        },
        "id": "GTSOCm6WIOf3",
        "outputId": "1c12281b-5dac-4687-875c-c5e68731a628"
      },
      "source": [
        "np.arange(4,5,0.2)"
      ],
      "execution_count": null,
      "outputs": [
        {
          "output_type": "execute_result",
          "data": {
            "text/plain": [
              "array([4. , 4.2, 4.4, 4.6, 4.8])"
            ]
          },
          "metadata": {
            "tags": []
          },
          "execution_count": 9
        }
      ]
    },
    {
      "cell_type": "code",
      "metadata": {
        "colab": {
          "base_uri": "https://localhost:8080/"
        },
        "id": "UDDY28ivIhzI",
        "outputId": "f4e8250f-be5a-4b73-890b-4f057cd65302"
      },
      "source": [
        "np.arange(4,5,0.1)"
      ],
      "execution_count": null,
      "outputs": [
        {
          "output_type": "execute_result",
          "data": {
            "text/plain": [
              "array([4. , 4.1, 4.2, 4.3, 4.4, 4.5, 4.6, 4.7, 4.8, 4.9])"
            ]
          },
          "metadata": {
            "tags": []
          },
          "execution_count": 10
        }
      ]
    },
    {
      "cell_type": "code",
      "metadata": {
        "colab": {
          "base_uri": "https://localhost:8080/"
        },
        "id": "UujzGfbxIkSt",
        "outputId": "47c09eed-c52e-4745-b6a5-5cf2d22d29c5"
      },
      "source": [
        "np.arange(20,5,-5)"
      ],
      "execution_count": null,
      "outputs": [
        {
          "output_type": "execute_result",
          "data": {
            "text/plain": [
              "array([20, 15, 10])"
            ]
          },
          "metadata": {
            "tags": []
          },
          "execution_count": 11
        }
      ]
    },
    {
      "cell_type": "code",
      "metadata": {
        "colab": {
          "base_uri": "https://localhost:8080/"
        },
        "id": "rnvbbC-bIsbb",
        "outputId": "6493bdeb-04c6-42f6-d4c8-ceae8186b8ca"
      },
      "source": [
        "np.linspace(2,10,4)"
      ],
      "execution_count": null,
      "outputs": [
        {
          "output_type": "execute_result",
          "data": {
            "text/plain": [
              "array([ 2.        ,  4.66666667,  7.33333333, 10.        ])"
            ]
          },
          "metadata": {
            "tags": []
          },
          "execution_count": 12
        }
      ]
    },
    {
      "cell_type": "code",
      "metadata": {
        "colab": {
          "base_uri": "https://localhost:8080/"
        },
        "id": "U-gmWOhPJdgq",
        "outputId": "358f8830-2bec-4a5d-8193-ddaf8b38ddba"
      },
      "source": [
        "np.linspace(2,10,4)"
      ],
      "execution_count": null,
      "outputs": [
        {
          "output_type": "execute_result",
          "data": {
            "text/plain": [
              "array([ 2.        ,  4.66666667,  7.33333333, 10.        ])"
            ]
          },
          "metadata": {
            "tags": []
          },
          "execution_count": 13
        }
      ]
    },
    {
      "cell_type": "code",
      "metadata": {
        "colab": {
          "base_uri": "https://localhost:8080/"
        },
        "id": "92woC3eTJu1N",
        "outputId": "e2d5bde4-033b-4fd9-8845-3e509f83ddd4"
      },
      "source": [
        "np.linspace(2,20,4)"
      ],
      "execution_count": null,
      "outputs": [
        {
          "output_type": "execute_result",
          "data": {
            "text/plain": [
              "array([ 2.,  8., 14., 20.])"
            ]
          },
          "metadata": {
            "tags": []
          },
          "execution_count": 14
        }
      ]
    },
    {
      "cell_type": "code",
      "metadata": {
        "id": "Th2NqNOjJz5N"
      },
      "source": [
        "e=np.arange(0,20,2)\r\n"
      ],
      "execution_count": null,
      "outputs": []
    },
    {
      "cell_type": "code",
      "metadata": {
        "colab": {
          "base_uri": "https://localhost:8080/"
        },
        "id": "W5N-H7EMKFfo",
        "outputId": "9857ff50-4821-4741-b8da-ce3db0791e23"
      },
      "source": [
        "len(e)"
      ],
      "execution_count": null,
      "outputs": [
        {
          "output_type": "execute_result",
          "data": {
            "text/plain": [
              "10"
            ]
          },
          "metadata": {
            "tags": []
          },
          "execution_count": 16
        }
      ]
    },
    {
      "cell_type": "code",
      "metadata": {
        "colab": {
          "base_uri": "https://localhost:8080/"
        },
        "id": "70pld10RKGxo",
        "outputId": "01c5f3a1-72ab-4c2c-fc6b-464676e56bb9"
      },
      "source": [
        "e.reshape(5,2)"
      ],
      "execution_count": null,
      "outputs": [
        {
          "output_type": "execute_result",
          "data": {
            "text/plain": [
              "array([[ 0,  2],\n",
              "       [ 4,  6],\n",
              "       [ 8, 10],\n",
              "       [12, 14],\n",
              "       [16, 18]])"
            ]
          },
          "metadata": {
            "tags": []
          },
          "execution_count": 17
        }
      ]
    },
    {
      "cell_type": "code",
      "metadata": {
        "colab": {
          "base_uri": "https://localhost:8080/"
        },
        "id": "L71TjshkKKS7",
        "outputId": "1d8adc56-2353-4534-f0f0-ebd2e9f17227"
      },
      "source": [
        "e.reshape(2,5)"
      ],
      "execution_count": null,
      "outputs": [
        {
          "output_type": "execute_result",
          "data": {
            "text/plain": [
              "array([[ 0,  2,  4,  6,  8],\n",
              "       [10, 12, 14, 16, 18]])"
            ]
          },
          "metadata": {
            "tags": []
          },
          "execution_count": 18
        }
      ]
    },
    {
      "cell_type": "code",
      "metadata": {
        "colab": {
          "base_uri": "https://localhost:8080/"
        },
        "id": "r4U5pf-IKmB-",
        "outputId": "16bb2813-fabe-48e2-a285-0d9234b45db3"
      },
      "source": [
        "print(e)"
      ],
      "execution_count": null,
      "outputs": [
        {
          "output_type": "stream",
          "text": [
            "[ 0  2  4  6  8 10 12 14 16 18]\n"
          ],
          "name": "stdout"
        }
      ]
    },
    {
      "cell_type": "code",
      "metadata": {
        "colab": {
          "base_uri": "https://localhost:8080/"
        },
        "id": "ysxNHgImKopN",
        "outputId": "548ad4ab-49a6-4a78-9ab2-d2569ff159ad"
      },
      "source": [
        "e[-2:]"
      ],
      "execution_count": null,
      "outputs": [
        {
          "output_type": "execute_result",
          "data": {
            "text/plain": [
              "array([16, 18])"
            ]
          },
          "metadata": {
            "tags": []
          },
          "execution_count": 20
        }
      ]
    },
    {
      "cell_type": "code",
      "metadata": {
        "id": "ZdDCys1ZKxIa"
      },
      "source": [
        "f=e.reshape(5,2)"
      ],
      "execution_count": null,
      "outputs": []
    },
    {
      "cell_type": "code",
      "metadata": {
        "colab": {
          "base_uri": "https://localhost:8080/"
        },
        "id": "2acHL79_Mh0c",
        "outputId": "7ffa5e70-7e88-45d0-edf7-e5c2bfcd3822"
      },
      "source": [
        "print(f)"
      ],
      "execution_count": null,
      "outputs": [
        {
          "output_type": "stream",
          "text": [
            "[[ 0  2]\n",
            " [ 4  6]\n",
            " [ 8 10]\n",
            " [12 14]\n",
            " [16 18]]\n"
          ],
          "name": "stdout"
        }
      ]
    },
    {
      "cell_type": "code",
      "metadata": {
        "colab": {
          "base_uri": "https://localhost:8080/"
        },
        "id": "mf_aIWTtMiuv",
        "outputId": "a4774068-dbb3-4e18-bb0c-3240a901c9ba"
      },
      "source": [
        "f[:]"
      ],
      "execution_count": null,
      "outputs": [
        {
          "output_type": "execute_result",
          "data": {
            "text/plain": [
              "array([[ 0,  2],\n",
              "       [ 4,  6],\n",
              "       [ 8, 10],\n",
              "       [12, 14],\n",
              "       [16, 18]])"
            ]
          },
          "metadata": {
            "tags": []
          },
          "execution_count": 23
        }
      ]
    },
    {
      "cell_type": "code",
      "metadata": {
        "colab": {
          "base_uri": "https://localhost:8080/"
        },
        "id": "uZcA-qDYMk_t",
        "outputId": "bf7b9d45-d8a5-42ce-d4b4-41d5a3d119c6"
      },
      "source": [
        "np.random.randint(1,20,10)"
      ],
      "execution_count": null,
      "outputs": [
        {
          "output_type": "execute_result",
          "data": {
            "text/plain": [
              "array([10, 11,  3, 12, 11, 14, 16,  4, 14, 10])"
            ]
          },
          "metadata": {
            "tags": []
          },
          "execution_count": 24
        }
      ]
    },
    {
      "cell_type": "code",
      "metadata": {
        "colab": {
          "base_uri": "https://localhost:8080/"
        },
        "id": "NhnPD3hEM4GG",
        "outputId": "ed31583f-070d-4ab9-c7f4-3998f436dd03"
      },
      "source": [
        "np.random.randn(3)"
      ],
      "execution_count": null,
      "outputs": [
        {
          "output_type": "execute_result",
          "data": {
            "text/plain": [
              "array([1.36439865, 0.97718736, 0.50706848])"
            ]
          },
          "metadata": {
            "tags": []
          },
          "execution_count": 25
        }
      ]
    },
    {
      "cell_type": "code",
      "metadata": {
        "id": "0c9BmbgnNfxl"
      },
      "source": [
        "x=np.linspace(1,10,21)\r\n",
        "y=x**2\r\n",
        "y2=x**3"
      ],
      "execution_count": null,
      "outputs": []
    },
    {
      "cell_type": "code",
      "metadata": {
        "colab": {
          "base_uri": "https://localhost:8080/",
          "height": 295
        },
        "id": "erLd58eKNz9W",
        "outputId": "d02b434d-7361-4679-a1aa-a85f7edc4b0f"
      },
      "source": [
        "plt.figure()\r\n",
        "plt.plot(x,y,'r-x',label='Y1')\r\n",
        "plt.plot(x,y2,'k-o',label='Y2')\r\n",
        "plt.legend()\r\n",
        "plt.title('Contoh Kurva Python')\r\n",
        "plt.xlabel('Angka-X')\r\n",
        "plt.ylabel('Angka-Y')\r\n",
        "plt.show()"
      ],
      "execution_count": null,
      "outputs": [
        {
          "output_type": "display_data",
          "data": {
            "image/png": "[encoded data removed]",
            "text/plain": [
              "<Figure size 432x288 with 1 Axes>"
            ]
          },
          "metadata": {
            "tags": [],
            "needs_background": "light"
          }
        }
      ]
    },
    {
      "cell_type": "code",
      "metadata": {
        "id": "fKDaHZpzOFO7",
        "colab": {
          "base_uri": "https://localhost:8080/"
        },
        "outputId": "8333bf5e-a1d5-4aaa-a3ea-52ebea6446ca"
      },
      "source": [
        "print (\"ILHAM_1101184056\")\r\n",
        "def cos(frek,tipe,ht,hr,d):\r\n",
        "  #frek = frekuensi (MHz),#tipe = urban, suburban, open,#ht = tinggi tower (meter),#hr = tinggi user (meter),#d = jarak (meter)\r\n",
        "    if frek in range(150,1501):\r\n",
        "        Ca=69.55\r\n",
        "        Cb=26.16\r\n",
        "    elif frek in range(1501,2001):\r\n",
        "        Ca=46.3\r\n",
        "        Cb=33.9\r\n",
        "    \r\n",
        "    if tipe=='urban' :\r\n",
        "        Cm=0\r\n",
        "    elif tipe=='suburban' :\r\n",
        "        Cm= -2*((np.log10((frek/28)**2))-5.4)\r\n",
        "    elif tipe=='open' :\r\n",
        "        Cm= -4.78*(np.log10(frek))+18.33*(np.log10(frek))-40.94\r\n",
        "    else :\r\n",
        "        Cm='tipe salah'\r\n",
        "    \r\n",
        "    ahr = (1.1*np.log10(frek)-0.7)*hr-(1.56*np.log10(frek)-1.8)\r\n",
        "    Lp = Ca+(Cb*np.log10(frek))-(13.83*np.log(ht))-ahr+((44.9-6.55*np.log10(ht))*np.log10(d))-Cm\r\n",
        "    \r\n",
        "    return Lp"
      ],
      "execution_count": null,
      "outputs": [
        {
          "output_type": "stream",
          "text": [
            "ILHAM_1101184056\n"
          ],
          "name": "stdout"
        }
      ]
    },
    {
      "cell_type": "code",
      "metadata": {
        "colab": {
          "base_uri": "https://localhost:8080/"
        },
        "id": "-Ypp7ujOGuaX",
        "outputId": "7a6da007-194a-4417-8086-438df99cb6e6"
      },
      "source": [
        "\r\n",
        "f=1800 #MHz\r\n",
        "loc='urban'\r\n",
        "tower=80 #m\r\n",
        "user=1.5 #m\r\n",
        "Dmin=200 #m\r\n",
        "Dmax=700 #m\r\n",
        "N=200 #titik\r\n",
        "D=np.random.randint(Dmin,Dmax,N)\r\n",
        "print(D)"
      ],
      "execution_count": null,
      "outputs": [
        {
          "output_type": "stream",
          "text": [
            "[300 615 417 669 621 274 371 210 527 531 638 238 304 244 500 665 444 215\n",
            " 501 658 552 583 365 462 368 257 515 410 430 567 209 416 270 239 583 691\n",
            " 443 222 519 343 594 393 657 532 352 360 417 321 541 643 672 403 626 431\n",
            " 294 400 378 484 368 649 695 615 650 623 483 225 209 589 548 491 331 229\n",
            " 687 632 286 590 237 677 285 401 504 305 557 520 526 317 422 480 595 589\n",
            " 627 260 498 555 571 344 689 590 269 501 400 663 378 462 607 484 309 628\n",
            " 528 302 366 547 678 413 461 267 274 454 567 555 206 565 454 558 256 360\n",
            " 369 293 699 314 599 223 453 341 259 439 336 555 529 404 272 399 615 230\n",
            " 488 613 665 368 302 235 578 347 318 326 413 373 622 431 504 452 639 544\n",
            " 663 247 239 667 258 358 469 695 299 294 467 645 268 338 692 625 467 302\n",
            " 406 270 205 359 651 446 370 560 256 331 400 362 627 414 436 421 560 314\n",
            " 696 666]\n"
          ],
          "name": "stdout"
        }
      ]
    },
    {
      "cell_type": "code",
      "metadata": {
        "colab": {
          "base_uri": "https://localhost:8080/"
        },
        "id": "QaXA7QVcHKbi",
        "outputId": "fef189e5-4a59-45e4-b15c-ca83e2e63968"
      },
      "source": [
        "\r\n",
        "GrafikUrban=cos(f,loc,tower,user,D)\r\n",
        "print(GrafikUrban)"
      ],
      "execution_count": null,
      "outputs": [
        {
          "output_type": "stream",
          "text": [
            "[175.35216988 185.46383172 179.99082068 186.64935472 185.60059238\n",
            " 174.07519091 178.34436265 170.32796189 183.2886107  183.3951234\n",
            " 185.98102224 172.09103965 175.53874529 172.44175248 182.54778096\n",
            " 186.56487928 180.87456785 170.65941807 182.5759253  186.41581717\n",
            " 183.94147257 184.71113247 178.11469065 181.43435956 178.22999474\n",
            " 173.17293892 182.96415327 179.75235389 180.42325391 184.31914231\n",
            " 170.26072435 179.95700017 173.86803663 172.15010153 184.71113247\n",
            " 187.10512569 180.84280631 171.11073201 183.07313824 177.23899284\n",
            " 184.9744343  179.15583628 186.39439323 183.42162621 177.60383665\n",
            " 177.92039464 179.99082068 176.30522567 183.65793397 186.09098562\n",
            " 186.7123805  179.50978046 185.713554   180.45597456 175.06758974\n",
            " 179.40452789 178.60766448 182.08965155 178.22999474 186.22181849\n",
            " 187.18643176 185.46383172 186.24350631 185.64588579 182.06051765\n",
            " 171.29981187 170.26072435 184.85536142 183.83902675 182.29191895\n",
            " 176.73735273 171.54803393 187.0233476  185.84792294 174.67897923\n",
            " 184.87925665 172.03172909 186.81680082 174.62964035 179.43969953\n",
            " 182.66002249 175.58500555 184.0684909  183.10025324 183.26185621\n",
            " 176.12859342 180.15871585 181.97275265 184.99812856 184.85536142\n",
            " 185.73603802 173.3364174  182.49132302 184.01782092 184.41816723\n",
            " 177.28000084 187.06429599 184.87925665 173.81576852 182.5759253\n",
            " 179.40452789 186.52245082 178.60766448 181.43435956 185.2793939\n",
            " 182.08965155 175.76854219 185.75848621 183.31531448 175.44576648\n",
            " 178.15323031 183.81329845 186.83759232 179.85504867 181.40383683\n",
            " 173.71064686 174.07519091 181.18830549 184.31914231 184.01782092\n",
            " 170.05706436 184.26936756 181.18830549 184.0937577  173.11802175\n",
            " 177.92039464 178.26822064 175.0195957  187.26727123 175.99465037\n",
            " 185.09250907 171.17404105 181.15724431 177.15661694 173.28213511\n",
            " 180.71503911 176.94854466 184.01782092 183.34196773 179.54469061\n",
            " 173.97199457 179.3692682  185.46383172 171.60941197 182.20558832\n",
            " 185.41794817 186.56487928 178.22999474 175.44576648 171.91235348\n",
            " 184.58980323 177.40231336 176.17295956 176.5229462  179.85504867\n",
            " 178.42009529 185.62325729 180.45597456 182.66002249 181.12611449\n",
            " 186.0030837  183.73583041 186.52245082 172.61388787 172.15010153\n",
            " 186.60718033 173.22764283 177.84191957 181.64618668 187.18643176\n",
            " 175.30513732 175.06758974 181.58598899 186.13473173 173.76330575\n",
            " 177.03214275 187.12549625 185.69103403 181.58598899 175.44576648\n",
            " 179.61425242 173.86803663 169.98851806 177.88121175 186.26516079\n",
            " 180.93787689 178.30634309 184.14415574 173.11802175 176.73735273\n",
            " 179.40452789 177.99843493 185.73603802 179.88911456 180.61844739\n",
            " 180.12529653 184.14415574 175.99465037 187.20668516 186.58604568]\n"
          ],
          "name": "stdout"
        }
      ]
    },
    {
      "cell_type": "code",
      "metadata": {
        "id": "C7IbqbcpIzEB"
      },
      "source": [
        "\r\n",
        "D_sorting=D[np.argsort(D)]\r\n",
        "Urban_sorting=GrafikUrban[np.argsort(D)]"
      ],
      "execution_count": null,
      "outputs": []
    },
    {
      "cell_type": "code",
      "metadata": {
        "colab": {
          "base_uri": "https://localhost:8080/"
        },
        "id": "UG_ZpM5BI7se",
        "outputId": "15e445f0-9385-420b-8dfa-44fb9126d970"
      },
      "source": [
        "\r\n",
        "f=1800 #MHz\r\n",
        "loc='suburban'\r\n",
        "tower=80 #m\r\n",
        "user=1.5 #m\r\n",
        "Dmin=200 #m\r\n",
        "Dmax=700 #m\r\n",
        "N=200 #titik\r\n",
        "A=np.random.randint(Dmin,Dmax,N)\r\n",
        "print(A)"
      ],
      "execution_count": null,
      "outputs": [
        {
          "output_type": "stream",
          "text": [
            "[308 463 618 569 458 219 524 500 249 258 273 552 264 630 688 224 553 220\n",
            " 642 625 582 389 570 284 458 286 236 313 664 674 406 257 640 201 206 376\n",
            " 419 442 427 301 406 502 374 373 611 487 453 217 590 252 384 294 493 436\n",
            " 364 315 546 658 602 624 372 223 353 225 418 381 627 268 262 549 626 588\n",
            " 635 367 338 206 446 638 347 423 678 370 296 276 212 565 392 245 351 589\n",
            " 541 569 687 359 688 341 374 326 639 619 487 251 446 471 550 539 347 382\n",
            " 261 395 495 303 460 495 681 380 598 598 203 376 690 501 321 490 405 681\n",
            " 578 537 626 625 591 630 211 608 227 667 554 525 325 624 670 389 238 552\n",
            " 680 414 584 614 571 540 359 352 697 242 654 487 524 642 662 554 363 202\n",
            " 582 209 647 281 422 421 317 381 278 538 594 571 438 645 459 549 497 543\n",
            " 544 296 685 317 342 563 604 252 243 286 550 585 500 312 551 293 613 314\n",
            " 200 512]\n"
          ],
          "name": "stdout"
        }
      ]
    },
    {
      "cell_type": "code",
      "metadata": {
        "colab": {
          "base_uri": "https://localhost:8080/"
        },
        "id": "Ytu95UoHJCCQ",
        "outputId": "2cc8b491-7f60-4890-e330-941bd10222e1"
      },
      "source": [
        "\r\n",
        "Grafiksuburban=cos(f,loc,tower,user,A)\r\n",
        "print(Grafiksuburban)"
      ],
      "execution_count": null,
      "outputs": [
        {
          "output_type": "stream",
          "text": [
            "[172.15533963 177.8972742  181.96483592 180.80119968 177.74432766\n",
            " 167.35153746 179.64065218 178.98023885 169.15994507 169.66010072\n",
            " 170.45614514 180.37393046 169.98393654 182.23573345 183.47629457\n",
            " 167.66952473 180.39942592 167.41571178 182.50151941 182.12349192\n",
            " 181.11940798 175.44418818 180.82593408 171.01258593 177.74432766\n",
            " 171.11143713 168.40462564 172.38217605 182.97613892 183.18669946\n",
            " 176.04671031 169.60539682 182.45756855 166.14340564 166.48952225\n",
            " 174.96539415 176.49067697 177.24343089 176.7570913  171.83150381\n",
            " 176.04671031 179.03647141 174.89026737 174.85255319 181.80437257\n",
            " 178.60915136 177.58970221 167.22230502 181.31171455 169.32864454\n",
            " 175.26195747 171.50004764 178.78163805 177.05090528 174.50850315\n",
            " 172.47189761 180.21998098 182.84827507 181.59533965 182.10093589\n",
            " 174.81473776 167.60649895 174.07625553 167.73226976 176.45701809\n",
            " 175.15147661 182.16849591 170.19576365 169.87681634 180.29716603\n",
            " 182.14601189 181.26388348 182.34708769 174.62412271 173.46460065\n",
            " 166.48952225 177.37033479 182.41348013 173.83477126 176.62451397\n",
            " 183.27005022 174.73880099 171.59554792 170.61009462 166.89393963\n",
            " 180.70182546 175.55240565 168.93182288 173.99621987 181.28781931\n",
            " 180.09039186 180.80119968 183.45580549 174.31366965 183.47629457\n",
            " 173.58907484 174.89026737 172.95540409 182.43554159 181.98761076\n",
            " 178.60915136 169.27263557 177.37033479 178.1385861  180.32280069\n",
            " 180.03822055 173.83477126 175.18839993 169.82294921 175.65979807\n",
            " 178.83866743 171.9247905  177.8057057  178.83866743 183.33224121\n",
            " 175.11445625 181.50143105 181.50143105 166.28287448 174.96539415\n",
            " 183.51718353 179.00838319 172.73768357 178.69565872 176.01197235\n",
            " 183.33224121 181.02226113 179.9858553  182.14601189 182.12349192\n",
            " 181.33556932 182.23573345 166.82733791 181.73503902 167.85692755\n",
            " 183.03963822 180.42487532 179.66750869 172.91212837 182.10093589\n",
            " 183.10285256 175.44418818 168.52349755 180.37393046 183.31154137\n",
            " 176.32157245 181.16773131 181.87336652 180.85062513 180.06433036\n",
            " 174.31366965 174.03629454 183.65936738 168.75827361 182.76238311\n",
            " 178.60915136 179.64065218 182.50151941 182.93364647 180.42487532\n",
            " 174.46975144 166.21331267 181.11940798 166.69318225 182.61080031\n",
            " 170.86299616 176.59117374 176.55775442 172.56105131 175.15147661\n",
            " 170.71180075 180.01206226 181.40689219 180.85062513 177.1153733\n",
            " 182.56718963 177.77505011 180.29716603 178.89546686 180.14237066\n",
            " 180.1682883  171.59554792 183.41473772 172.56105131 173.630323\n",
            " 180.65187421 181.64206022 169.32864454 168.81636127 171.11143713\n",
            " 180.32280069 181.19183095 178.98023885 172.33710005 180.34838877\n",
            " 171.4520536  181.85040607 172.42710827 166.07314994 179.31431548]\n"
          ],
          "name": "stdout"
        }
      ]
    },
    {
      "cell_type": "code",
      "metadata": {
        "id": "ggcrgTQ1KDb_"
      },
      "source": [
        "\r\n",
        "A_sorting=A[np.argsort(A)]\r\n",
        "suburban_sorting=Grafiksuburban[np.argsort(A)]"
      ],
      "execution_count": null,
      "outputs": []
    },
    {
      "cell_type": "code",
      "metadata": {
        "colab": {
          "base_uri": "https://localhost:8080/"
        },
        "id": "I8Raj1IoKKvW",
        "outputId": "1ea52bbf-917f-4523-d7d3-0ba086191a17"
      },
      "source": [
        "\r\n",
        "f=1800 #MHz\r\n",
        "loc='open'\r\n",
        "tower=80 #m\r\n",
        "user=1.5 #m\r\n",
        "Dmin=200 #m\r\n",
        "Dmax=700 #m\r\n",
        "N=200 #titik\r\n",
        "B=np.random.randint(Dmin,Dmax,N)\r\n",
        "print(B)"
      ],
      "execution_count": null,
      "outputs": [
        {
          "output_type": "stream",
          "text": [
            "[614 219 280 467 658 675 357 289 508 646 234 354 343 206 663 408 667 383\n",
            " 664 442 264 254 271 621 480 423 646 319 461 510 567 404 222 656 387 440\n",
            " 463 618 380 419 536 219 610 266 452 489 353 405 307 563 255 308 212 668\n",
            " 271 509 468 454 233 447 449 210 596 695 492 623 661 586 535 543 698 682\n",
            " 529 674 648 217 650 662 308 395 587 390 601 543 372 490 655 693 679 669\n",
            " 248 687 635 555 469 610 388 426 270 537 400 300 657 212 305 289 577 362\n",
            " 215 295 405 674 444 349 309 464 281 216 471 522 672 515 221 285 270 666\n",
            " 618 560 605 344 488 332 265 528 440 412 593 467 308 616 460 567 238 286\n",
            " 668 395 575 405 593 283 558 684 520 384 381 563 432 313 371 247 530 389\n",
            " 390 522 366 311 655 422 579 541 478 572 364 323 487 206 308 305 581 331\n",
            " 307 269 684 653 378 210 678 269 217 395 660 411 631 690 498 679 503 600\n",
            " 605 556]\n"
          ],
          "name": "stdout"
        }
      ]
    },
    {
      "cell_type": "code",
      "metadata": {
        "colab": {
          "base_uri": "https://localhost:8080/"
        },
        "id": "64iZtUvBKlRb",
        "outputId": "e8abc8c0-3650-485b-e59b-504c4fa115dd"
      },
      "source": [
        "\r\n",
        "Grafikopen=cos(f,loc,tower,user,B)\r\n",
        "print(Grafikopen)"
      ],
      "execution_count": null,
      "outputs": [
        {
          "output_type": "stream",
          "text": [
            "[182.27196619 167.75013712 171.21137746 178.41704654 183.24687473\n",
            " 183.60618309 174.63357504 171.65702495 179.60243428 182.98761151\n",
            " 168.68334171 174.51470313 174.07005039 166.88812191 183.35350838\n",
            " 176.51452995 183.43823788 175.62382637 183.37473858 177.64203055\n",
            " 170.3825362  169.83859844 170.75116906 182.43164994 178.8038102\n",
            " 177.02311363 182.98761151 173.04824396 178.23489438 179.65778303\n",
            " 181.15019986 176.37574817 167.94178957 183.20399422 175.77017821\n",
            " 177.57814728 178.29587386 182.36343558 175.51305591 176.88927663\n",
            " 180.35819915 167.75013712 182.17989895 170.48884793 177.95717205\n",
            " 179.06548158 174.47485519 176.41057201 172.50813035 181.05047387\n",
            " 169.89394719 172.55393929 167.29253929 183.45934086 170.75116906\n",
            " 179.63013584 178.44717754 178.01936304 168.62301511 177.80048259\n",
            " 177.86336768 167.15901945 181.8528406  184.01748932 179.15163621\n",
            " 182.47694335 183.31095174 181.6144891  180.33189431 180.54097032\n",
            " 184.07816237 183.75151034 180.17302528 183.58529912 183.03115478\n",
            " 167.62090468 183.07456387 183.33224613 172.55393929 176.05839773\n",
            " 181.63850656 175.87895279 181.97052079 180.54097032 175.21333742\n",
            " 179.09425838 183.18250491 183.97689495 183.68941073 183.48041228\n",
            " 169.5018596  183.85440515 182.74568735 180.84887848 178.47724423\n",
            " 182.17989895 175.80652981 177.12266342 170.69909418 180.38445496\n",
            " 176.23558544 172.18322743 183.22545079 167.29253929 172.41606311\n",
            " 171.65702495 181.39646903 174.82949249 167.49047562 171.94647837\n",
            " 176.41057201 183.58529912 177.70562541 174.31432653 172.59959974\n",
            " 178.32626489 171.26159583 167.55584111 178.53718576 179.98538471\n",
            " 183.54343805 179.79521082 167.87819471 171.4606979  170.69909418\n",
            " 183.41710324 182.36343558 180.97521329 182.06396218 174.11105839\n",
            " 179.03664588 173.61090274 170.43579236 180.14637203 177.57814728\n",
            " 176.65195775 181.78175766 178.41704654 172.55393929 182.31777513\n",
            " 178.20430536 181.15019986 168.92209721 171.51003679 183.45934086\n",
            " 176.05839773 181.34755843 176.41057201 181.78175766 171.36149864\n",
            " 180.92481525 183.7927585  179.9313108  175.66055713 175.55007627\n",
            " 181.05047387 177.31967695 172.78077571 175.17542021 169.44494543\n",
            " 180.19962819 175.84278784 175.87895279 179.98538471 174.98428787\n",
            " 172.69047901 183.18250491 176.9897734  181.44521038 180.48899152\n",
            " 178.74499493 181.27387263 174.90710281 173.22377567 179.00775102\n",
            " 166.88812191 172.55393929 172.41606311 181.49378367 173.56841029\n",
            " 172.50813035 170.64682608 183.7927585  183.1394277  175.43872203\n",
            " 167.15901945 183.66864988 170.64682608 167.62090468 176.05839773\n",
            " 183.2896251  176.6177263  182.65667449 183.91578319 179.32238057\n",
            " 183.68941073 179.4631034  181.94706327 182.06396218 180.87423625]\n"
          ],
          "name": "stdout"
        }
      ]
    },
    {
      "cell_type": "code",
      "metadata": {
        "id": "um6RQXkNMEDH"
      },
      "source": [
        "\r\n",
        "B_sorting=B[np.argsort(B)]\r\n",
        "open_sorting=Grafikopen[np.argsort(B)]"
      ],
      "execution_count": null,
      "outputs": []
    },
    {
      "cell_type": "code",
      "metadata": {
        "colab": {
          "base_uri": "https://localhost:8080/",
          "height": 295
        },
        "id": "nunlJ9O1MEGl",
        "outputId": "bc74c401-dd5d-4473-bd79-3dac1b630496"
      },
      "source": [
        "\r\n",
        "plt.figure()\r\n",
        "plt.plot(D_sorting,Urban_sorting,'g', label='Urban')\r\n",
        "plt.plot(B_sorting,open_sorting,'y', label='Open')\r\n",
        "plt.plot(A_sorting,suburban_sorting,'k', label='Suburban')\r\n",
        "plt.legend()\r\n",
        "plt.title('FREKUENSI 1800 MHZ (GAMBAR CONTOH)')\r\n",
        "plt.xlabel('Jarak (m)')\r\n",
        "plt.ylabel('Path Loss (dB)')\r\n",
        "plt.show()"
      ],
      "execution_count": null,
      "outputs": [
        {
          "output_type": "display_data",
          "data": {
            "image/png": "[encoded data removed]",
            "text/plain": [
              "<Figure size 432x288 with 1 Axes>"
            ]
          },
          "metadata": {
            "tags": [],
            "needs_background": "light"
          }
        }
      ]
    },
    {
      "cell_type": "code",
      "metadata": {
        "colab": {
          "base_uri": "https://localhost:8080/"
        },
        "id": "7fIk7WkbMPNU",
        "outputId": "5334f6e9-47ab-45b6-fa5f-e61a072b4be7"
      },
      "source": [
        "\r\n",
        "f=1800 #MHz\r\n",
        "loc='urban'\r\n",
        "tower=80 #m\r\n",
        "user=1.5 #m\r\n",
        "Dmin=200 #m\r\n",
        "Dmax=700 #m\r\n",
        "N=200 #titik\r\n",
        "P=np.random.randint(Dmin,Dmax,N)\r\n",
        "print(P)"
      ],
      "execution_count": null,
      "outputs": [
        {
          "output_type": "stream",
          "text": [
            "[555 488 400 346 681 666 435 269 432 304 428 229 212 420 255 589 514 290\n",
            " 470 649 302 503 447 431 605 379 675 629 556 209 616 649 385 396 392 491\n",
            " 286 693 555 210 273 207 296 504 577 535 237 699 293 228 446 426 635 286\n",
            " 399 340 650 258 237 486 525 351 257 546 627 535 470 426 525 494 625 277\n",
            " 602 658 402 535 659 620 434 589 570 362 596 409 494 686 239 609 443 354\n",
            " 530 582 322 602 600 353 318 232 297 298 274 543 420 457 237 267 555 652\n",
            " 409 428 333 602 203 597 563 362 591 472 614 305 250 498 208 391 500 305\n",
            " 656 541 383 281 330 683 648 296 419 594 391 481 426 317 538 582 300 572\n",
            " 480 574 433 307 487 596 425 388 406 579 682 206 577 508 506 324 683 387\n",
            " 330 375 422 691 413 385 351 548 651 325 474 527 257 259 400 243 617 485\n",
            " 563 498 479 515 497 257 560 494 590 413 308 504 659 531 623 464 440 383\n",
            " 533 578]\n"
          ],
          "name": "stdout"
        }
      ]
    },
    {
      "cell_type": "code",
      "metadata": {
        "colab": {
          "base_uri": "https://localhost:8080/"
        },
        "id": "vWXqDVoYQSUB",
        "outputId": "a6b642b1-7880-4f72-9e8b-2dec92e3d784"
      },
      "source": [
        "\r\n",
        "GrafikUrban1=cos(f,loc,tower,user,P)\r\n",
        "print(GrafikUrban1)"
      ],
      "execution_count": null,
      "outputs": [
        {
          "output_type": "stream",
          "text": [
            "[184.01782092 182.20558832 179.40452789 177.36166041 186.89978332\n",
            " 186.58604568 180.5861024  173.81576852 180.48861939 175.53874529\n",
            " 180.35758368 171.54803393 170.46148173 180.09179773 173.06288963\n",
            " 184.85536142 182.93677476 174.87462457 181.67618932 186.22181849\n",
            " 175.44576648 182.63204584 180.96942503 180.45597456 185.23290462\n",
            " 178.64488045 186.77512553 185.78089869 184.04317869 170.26072435\n",
            " 185.48671757 186.22181849 178.8661348  179.26295647 179.11994775\n",
            " 182.29191895 174.67897923 187.14583739 184.01782092 170.32796189\n",
            " 174.02368724 170.12527872 175.16309002 182.66002249 184.56541147\n",
            " 183.50083675 172.03172909 187.26727123 175.0195957  171.48638728\n",
            " 180.93787689 180.29160587 185.91462979 174.67897923 179.3692682\n",
            " 177.11524764 186.24350631 173.22764283 172.03172909 182.14773921\n",
            " 183.2350508  177.56376198 173.17293892 183.78752308 185.73603802\n",
            " 183.50083675 181.67618932 180.29160587 183.2350508  182.37772371\n",
            " 185.69103403 174.22858158 185.16288176 186.41581717 179.47478358\n",
            " 183.50083675 186.43720858 185.57789095 180.55368296 184.85536142\n",
            " 184.39347619 177.99843493 185.02178304 179.71795525 182.37772371\n",
            " 187.00282867 172.15010153 185.32573025 180.84280631 177.68364557\n",
            " 183.36857064 184.68695008 176.34903982 185.16288176 185.11600572\n",
            " 177.64379763 176.17295956 171.7313715  175.21059846 175.2579472\n",
            " 174.07519091 183.70991276 180.09179773 181.28108017 172.03172909\n",
            " 173.71064686 184.01782092 186.28678204 179.71795525 180.35758368\n",
            " 176.82220984 185.16288176 169.85041658 185.04539786 184.21941631\n",
            " 177.99843493 184.90311142 181.73600358 185.44090863 175.58500555\n",
            " 172.78394512 182.49132302 170.19316433 179.08396756 182.54778096\n",
            " 175.58500555 186.37293666 183.65793397 178.79276882 174.43053827\n",
            " 176.69473171 186.94109196 186.20009722 175.16309002 180.05821908\n",
            " 184.9744343  179.08396756 182.00206845 180.29160587 176.12859342\n",
            " 183.57960436 184.68695008 175.35216988 184.44281507 181.97275265\n",
            " 184.49198175 180.52118874 175.67707279 182.17669346 185.02178304\n",
            " 180.25850071 178.97547226 179.61425242 184.61415283 186.92045278\n",
            " 170.05706436 184.56541147 182.77137672 182.71580964 176.43626138\n",
            " 186.94109196 178.93912065 176.69473171 178.49542295 180.15871585\n",
            " 187.10512569 179.85504867 178.8661348  177.56376198 183.83902675\n",
            " 186.26516079 176.47967047 181.79556493 183.2886107  173.17293892\n",
            " 173.28213511 179.40452789 172.38390337 185.5095663  182.11872533\n",
            " 184.21941631 182.49132302 181.94337571 182.96415327 182.46300896\n",
            " 173.17293892 184.14415574 182.37772371 184.87925665 179.85504867\n",
            " 175.72288173 182.66002249 186.43720858 183.3951234  185.64588579\n",
            " 181.49520734 180.74708972 178.79276882 183.44807925 184.58980323]\n"
          ],
          "name": "stdout"
        }
      ]
    },
    {
      "cell_type": "code",
      "metadata": {
        "id": "RYcjUqpuQ1F-"
      },
      "source": [
        "\r\n",
        "P_sorting=P[np.argsort(P)]\r\n",
        "Urban_sorting1=GrafikUrban1[np.argsort(P)]"
      ],
      "execution_count": null,
      "outputs": []
    },
    {
      "cell_type": "code",
      "metadata": {
        "colab": {
          "base_uri": "https://localhost:8080/"
        },
        "id": "eiAdiCpuQmq8",
        "outputId": "c6005350-e96d-461a-bcab-cc60af962838"
      },
      "source": [
        "\r\n",
        "f=900 #MHz\r\n",
        "loc='urban'\r\n",
        "tower=80 #m\r\n",
        "user=1.5 #m\r\n",
        "Dmin=200 #m\r\n",
        "Dmax=700 #m\r\n",
        "N=200 #titik\r\n",
        "K=np.random.randint(Dmin,Dmax,N)\r\n",
        "print(K)"
      ],
      "execution_count": null,
      "outputs": [
        {
          "output_type": "stream",
          "text": [
            "[548 527 261 436 454 582 504 614 531 556 698 498 400 372 287 436 239 693\n",
            " 673 208 432 203 484 431 510 236 477 642 482 321 453 471 301 292 458 347\n",
            " 460 244 600 676 611 259 443 524 216 275 662 214 281 518 655 345 410 644\n",
            " 483 299 651 611 311 659 627 550 300 230 554 635 466 451 473 361 464 481\n",
            " 441 389 301 376 294 589 218 403 426 689 379 548 513 298 243 422 491 659\n",
            " 500 321 633 341 657 206 524 511 624 552 330 378 426 642 437 295 559 419\n",
            " 538 692 368 564 414 304 467 626 529 414 308 601 574 421 269 452 526 533\n",
            " 263 384 238 329 476 694 367 618 379 510 620 536 576 580 455 299 633 408\n",
            " 541 489 470 320 306 448 300 313 348 228 272 284 654 309 276 475 347 540\n",
            " 328 472 602 472 213 678 365 234 592 266 355 289 232 649 570 215 615 582\n",
            " 276 555 249 443 308 422 368 390 512 457 455 354 683 385 201 619 487 376\n",
            " 352 628]\n"
          ],
          "name": "stdout"
        }
      ]
    },
    {
      "cell_type": "code",
      "metadata": {
        "colab": {
          "base_uri": "https://localhost:8080/"
        },
        "id": "8Zcm8_JzRPxH",
        "outputId": "8db3c4e1-62a1-49f6-a2ee-a99c911a24eb"
      },
      "source": [
        "\r\n",
        "GrafikUrban2=cos(f,loc,tower,user,K)\r\n",
        "print(GrafikUrban2)"
      ],
      "execution_count": null,
      "outputs": [
        {
          "output_type": "stream",
          "text": [
            "[174.04536557 173.49494953 163.59683014 170.82478621 171.39464431\n",
            " 174.89328891 172.86636131 175.64724745 173.60146223 174.24951752\n",
            " 177.45344364 172.69766184 169.61086671 168.58861869 164.93448473\n",
            " 170.82478621 162.35644036 177.35217621 176.9396654  160.39950315\n",
            " 170.69495822 160.0567554  172.29599038 170.66231339 173.03306429\n",
            " 162.17850657 172.09077621 176.27540033 172.23766219 166.5115645\n",
            " 171.36358314 171.91246703 165.60538474 165.1777764  171.51820859\n",
            " 167.60865219 171.57958663 162.6480913  175.32234454 177.00231742\n",
            " 175.5782535  163.48847393 171.04914514 173.41453311 160.93112238\n",
            " 164.33284578 176.7075274  160.80008667 164.63687709 173.25230977\n",
            " 176.55778618 167.52722862 169.95869272 176.31921448 172.26685647\n",
            " 165.51147614 176.47149961 175.5782535  166.06576028 176.6435474\n",
            " 175.94237684 174.09668161 165.5585087  161.81575079 174.19875625\n",
            " 176.12096862 171.76213222 171.30125455 171.97215456 168.16580765\n",
            " 171.70154616 172.20840727 170.9854064  169.21806911 165.60538474\n",
            " 168.73927508 165.27392857 175.06170024 161.06095037 169.71611929\n",
            " 170.49794469 177.27063481 168.85121927 174.04536557 173.11568176\n",
            " 165.46428602 162.5902422  170.36505467 172.49825778 176.6435474\n",
            " 172.75411978 166.5115645  176.0765325  167.36295577 176.60073206\n",
            " 160.26340318 173.41453311 173.06065732 175.87481682 174.14781139\n",
            " 166.90107053 168.8140033  170.49794469 176.27540033 170.8570571\n",
            " 165.32175964 174.32531808 170.2645579  173.78594319 177.33183507\n",
            " 168.43633356 174.4507529  170.09545338 165.74508411 171.79232781\n",
            " 175.91989282 173.54830655 170.09545338 165.92922056 175.34580206\n",
            " 174.69832057 170.33163535 164.02210735 171.33245332 173.46819503\n",
            " 173.65441807 163.70435919 169.0358384  162.29737848 166.85832016\n",
            " 172.06121432 177.37248802 168.39800364 175.73871685 168.85121927\n",
            " 173.03306429 175.78422977 173.73348041 174.74731623 174.84479923\n",
            " 171.42563715 165.51147614 176.0765325  169.88981122 173.86427279\n",
            " 172.44076285 171.88252815 166.46761364 165.83745321 171.20724149\n",
            " 165.5585087  166.15605698 167.64918815 161.6927261  164.17833339\n",
            " 164.78646686 176.53626404 165.97488101 164.38397555 172.03159025\n",
            " 167.60865219 173.83821129 166.81543965 171.94234241 175.36922058\n",
            " 171.94234241 160.73410885 177.04393115 168.32102947 162.05862297\n",
            " 175.13326469 163.8641292  167.92971993 165.03230622 161.93771032\n",
            " 176.42815731 174.59981501 160.86575689 175.67017055 174.89328891\n",
            " 164.38397555 174.22415975 162.933826   171.04914514 165.92922056\n",
            " 170.36505467 168.43633356 169.25423405 173.08819641 171.48741899\n",
            " 171.42563715 167.8899844  177.14743079 169.07247363 159.91728657\n",
            " 175.76149169 172.38303229 168.73927508 167.81017547 175.96482504]\n"
          ],
          "name": "stdout"
        }
      ]
    },
    {
      "cell_type": "code",
      "metadata": {
        "id": "54VZjGwzRspt"
      },
      "source": [
        "\r\n",
        "K_sorting=K[np.argsort(K)]\r\n",
        "Urban_sorting2=GrafikUrban2[np.argsort(K)]"
      ],
      "execution_count": null,
      "outputs": []
    },
    {
      "cell_type": "code",
      "metadata": {
        "colab": {
          "base_uri": "https://localhost:8080/"
        },
        "id": "KBypQ5tqXhix",
        "outputId": "84815d82-f615-4708-a7e1-d4b3f40d35da"
      },
      "source": [
        "\r\n",
        "f=700 #MHz\r\n",
        "loc='urban'\r\n",
        "tower=80 #m\r\n",
        "user=1.5 #m\r\n",
        "Dmin=200 #m\r\n",
        "Dmax=700 #m\r\n",
        "N=200 #titik\r\n",
        "R=np.random.randint(Dmin,Dmax,N)\r\n",
        "print(R)"
      ],
      "execution_count": null,
      "outputs": [
        {
          "output_type": "stream",
          "text": [
            "[550 376 449 459 275 219 224 631 284 288 215 631 294 473 589 236 439 213\n",
            " 636 544 419 263 697 543 555 563 429 614 396 596 563 205 662 327 223 256\n",
            " 271 311 367 510 577 367 640 389 295 228 303 652 239 521 348 650 238 671\n",
            " 602 283 269 629 222 228 580 309 224 637 626 348 206 535 417 335 317 567\n",
            " 588 588 322 420 597 494 688 559 429 497 697 428 232 621 328 283 603 203\n",
            " 646 573 504 289 208 580 524 549 504 476 425 289 544 413 433 216 682 246\n",
            " 691 533 352 602 534 662 683 303 615 561 268 628 416 471 439 583 476 686\n",
            " 508 585 533 288 242 206 416 691 227 495 622 609 432 454 647 477 649 460\n",
            " 684 222 208 285 477 605 550 511 578 443 635 459 348 625 512 229 397 269\n",
            " 379 462 448 432 686 432 385 460 494 598 358 327 612 581 482 259 667 224\n",
            " 456 597 214 346 508 440 398 249 504 428 584 637 432 529 382 622 316 521\n",
            " 356 696]\n"
          ],
          "name": "stdout"
        }
      ]
    },
    {
      "cell_type": "code",
      "metadata": {
        "colab": {
          "base_uri": "https://localhost:8080/"
        },
        "id": "J9kyn6vtXhp7",
        "outputId": "33617b89-386b-4cd6-dfd2-e4873a29909f"
      },
      "source": [
        "\r\n",
        "GrafikUrban3=cos(f,loc,tower,user,R)\r\n",
        "print(GrafikUrban3)"
      ],
      "execution_count": null,
      "outputs": [
        {
          "output_type": "stream",
          "text": [
            "[171.2512853  165.89387876 168.39325263 168.70353472 161.48744946\n",
            " 158.28002207 158.59800934 173.18655944 161.94107054 162.13808407\n",
            " 158.02036057 173.18655944 162.42853225 169.12675824 172.21630393\n",
            " 159.33311025 168.07598161 157.88871253 173.2977379  171.09677291\n",
            " 167.41916158 160.85896287 174.58785199 171.07085527 171.37876343\n",
            " 171.58035882 167.75139957 172.80185113 166.62389897 172.38272555\n",
            " 171.58035882 157.34946056 173.86213108 163.92703188 158.53498356\n",
            " 160.47896425 161.28105401 163.22036396 165.55260732 170.18766798\n",
            " 171.92635398 165.55260732 173.38605316 166.37267279 162.47636332\n",
            " 158.84732978 162.85327511 173.64772454 159.51104404 170.48825865\n",
            " 164.80379183 173.60444882 159.45198216 174.05234573 172.52382426\n",
            " 161.89138359 161.17671103 173.14184119 158.47167452 158.84732978\n",
            " 171.99940291 163.12948469 158.59800934 173.31986868 173.0744965\n",
            " 164.80379183 157.41800686 170.86177926 167.35176319 164.26750133\n",
            " 163.48953593 171.68008481 172.19236809 172.19236809 163.70998233\n",
            " 167.45274023 172.40634037 169.73866622 174.40477918 171.47992176\n",
            " 167.75139957 169.82395147 174.58785199 167.71852619 159.092314\n",
            " 172.96153489 163.97004333 161.89138359 172.54720392 157.21135909\n",
            " 173.51749646 171.82836237 170.02096499 162.1869099  157.55410684\n",
            " 171.99940291 170.56913679 171.22565064 170.02096499 169.215818\n",
            " 167.61944322 162.1869099  171.09677291 167.21599117 167.88213125\n",
            " 158.08572606 174.28139529 159.91768532 174.4660682  170.80902175\n",
            " 164.96477916 172.52382426 170.8354252  173.86213108 174.30203447\n",
            " 162.85327511 172.82477423 171.53022981 161.12424826 173.11942872\n",
            " 167.31794267 169.06707071 168.07598161 172.07207498 169.215818\n",
            " 174.36377118 170.13231923 172.12031556 170.80902175 162.13808407\n",
            " 159.68675822 157.41800686 167.31794267 174.4660682  158.78541216\n",
            " 169.76715204 172.9841998  172.68667275 167.8495619  168.54924799\n",
            " 173.53928492 169.24537989 173.58276099 168.73419031 174.32264345\n",
            " 158.47167452 157.55410684 161.99058285 169.24537989 172.59384713\n",
            " 171.2512853  170.21526101 171.95074574 168.20374882 173.2755723\n",
            " 168.70353472 164.80379183 173.05197653 170.24280009 158.90897644\n",
            " 166.65942544 161.17671103 166.00582296 168.79530207 168.36184517\n",
            " 167.8495619  174.36377118 167.8495619  166.22707731 168.73419031\n",
            " 169.73866622 172.42991566 165.20286208 163.92703188 172.75589273\n",
            " 172.02366862 169.39226587 160.64307761 173.96812283 158.59800934\n",
            " 168.61116562 172.40634037 157.95469035 164.72260292 170.13231923\n",
            " 168.10803223 166.69486254 160.08842968 170.02096499 167.71852619\n",
            " 172.09621592 173.31986868 167.8495619  170.70291023 166.11688454\n",
            " 172.9841998  163.44502961 170.48825865 165.12394737 174.56762767]\n"
          ],
          "name": "stdout"
        }
      ]
    },
    {
      "cell_type": "code",
      "metadata": {
        "id": "mwVNNJ8JXmFZ"
      },
      "source": [
        "\r\n",
        "R_sorting=R[np.argsort(R)]\r\n",
        "Urban_sorting3=GrafikUrban3[np.argsort(R)]"
      ],
      "execution_count": null,
      "outputs": []
    },
    {
      "cell_type": "code",
      "metadata": {
        "id": "AekRjMIjXmIv",
        "colab": {
          "base_uri": "https://localhost:8080/",
          "height": 295
        },
        "outputId": "97565b5d-f4e3-4b15-ab77-cf9ac76df5c5"
      },
      "source": [
        "plt.figure()\r\n",
        "plt.plot(P_sorting,Urban_sorting1,'y', label='1800 Mhz')\r\n",
        "plt.plot(K_sorting,Urban_sorting2,'b', label='900 Mhz')\r\n",
        "plt.plot(R_sorting,Urban_sorting3,'r', label='700 Mhz')\r\n",
        "plt.legend()\r\n",
        "plt.title('Model Urban (GAMBAR CONTOH)')\r\n",
        "plt.xlabel('Jarak (m)')\r\n",
        "plt.ylabel('Path Loss (dB)')\r\n",
        "plt.show()"
      ],
      "execution_count": null,
      "outputs": [
        {
          "output_type": "display_data",
          "data": {
            "image/png": "[encoded data removed]",
            "text/plain": [
              "<Figure size 432x288 with 1 Axes>"
            ]
          },
          "metadata": {
            "tags": [],
            "needs_background": "light"
          }
        }
      ]
    },
    {
      "cell_type": "code",
      "metadata": {
        "id": "RA-_Olw46ZeW"
      },
      "source": [
        ""
      ],
      "execution_count": null,
      "outputs": []
    }
  ]
}